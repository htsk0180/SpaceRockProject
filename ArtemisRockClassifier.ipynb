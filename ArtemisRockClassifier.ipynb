{
 "cells": [
  {
   "cell_type": "code",
   "execution_count": 14,
   "metadata": {},
   "outputs": [
    {
     "name": "stdout",
     "output_type": "stream",
     "text": [
      "Artemis Aracı Kaya Tarayıcı Başlatılıyor..\n",
      "\n",
      "Bazalt Sayısı  0\n",
      "Breccia Sayısı:  0\n",
      "Highland Sayısı  0\n",
      "Regolit Sayısı:  0\n",
      "Bulunan bir kaya türünün maksimum sayısı: 0\n",
      "Bulunan bir kaya türünün minimum sayısı: 0\n"
     ]
    }
   ],
   "source": [
    "print(\"Artemis Aracı Kaya Tarayıcı Başlatılıyor..\")\n",
    "\n",
    "bazalt = 0\n",
    "breccia = 0\n",
    "highland = 0\n",
    "regolit = 0\n",
    "rockList = []\n",
    "\n",
    "strPath = \"rocks.txt\"\n",
    "fileObject = open(strPath)\n",
    "line = fileObject.readline()\n",
    "print(line)\n",
    "\n",
    "rockList = fileObject.readlines()\n",
    "\n",
    "for rock in rockList:\n",
    "    print(rock)\n",
    "\n",
    "fileObject.close()\n",
    "\n",
    "def countMoonRocks(rockToID):\n",
    "    global bazalt\n",
    "    global breccia\n",
    "    global highland\n",
    "    global regolit\n",
    "\n",
    "    rockToID = rockToID.lower()\n",
    "\n",
    "    if(\"bazalt\" in rockToID):\n",
    "        print(\"bulunan bazalt\\n\")\n",
    "        bazalt += 1\n",
    "    elif(\"breccia\" in rockToID):\n",
    "        print(\"bulunan breccia\\n\")\n",
    "        breccia += 1\n",
    "    elif(\"highland\" in rockToID):\n",
    "        print(\"bulunan highland\\n\")\n",
    "        highland += 1\n",
    "    elif(\"regolit\" in rockToID):\n",
    "        print(\"bulunan regolit\\n\")\n",
    "        regolit += 1\n",
    "\n",
    "    return\n",
    "\n",
    "for rock in rockList:\n",
    "    countMoonRocks(rock)\n",
    "\n",
    "\n",
    "print(\"Bazalt Sayısı \", bazalt)\n",
    "print(\"Breccia Sayısı: \", breccia)\n",
    "print(\"Highland Sayısı \", highland)\n",
    "print(\"Regolit Sayısı: \", regolit)\n",
    "\n",
    "print(\"Bulunan bir kaya türünün maksimum sayısı:\", max(bazalt, breccia, highland,regolit))\n",
    "print(\"Bulunan bir kaya türünün minimum sayısı:\", min(bazalt, breccia, highland, regolit))\n",
    "\n"
   ]
  },
  {
   "cell_type": "code",
   "execution_count": null,
   "metadata": {},
   "outputs": [],
   "source": []
  }
 ],
 "metadata": {
  "interpreter": {
   "hash": "fe0dcfccdf3aae84f620c9a863c3ac1b5dbcfa967bdf843c2593d88d8b9a7562"
  },
  "kernelspec": {
   "display_name": "Python 3.10.0 64-bit",
   "language": "python",
   "name": "python3"
  },
  "language_info": {
   "codemirror_mode": {
    "name": "ipython",
    "version": 3
   },
   "file_extension": ".py",
   "mimetype": "text/x-python",
   "name": "python",
   "nbconvert_exporter": "python",
   "pygments_lexer": "ipython3",
   "version": "3.10.0"
  },
  "orig_nbformat": 4
 },
 "nbformat": 4,
 "nbformat_minor": 2
}
